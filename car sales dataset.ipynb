{
 "cells": [
  {
   "cell_type": "code",
   "execution_count": 2,
   "id": "41bc33ad",
   "metadata": {},
   "outputs": [],
   "source": [
    "import numpy as np\n",
    "import pandas as pd\n",
    "import matplotlib.pyplot as plt\n",
    "import seaborn as sns"
   ]
  },
  {
   "cell_type": "code",
   "execution_count": 3,
   "id": "29b307bf",
   "metadata": {},
   "outputs": [],
   "source": [
    "df=pd.read_csv('Cars Mock Data.csv')"
   ]
  },
  {
   "cell_type": "code",
   "execution_count": 4,
   "id": "6a977a2a",
   "metadata": {
    "scrolled": false
   },
   "outputs": [
    {
     "data": {
      "text/html": [
       "<div>\n",
       "<style scoped>\n",
       "    .dataframe tbody tr th:only-of-type {\n",
       "        vertical-align: middle;\n",
       "    }\n",
       "\n",
       "    .dataframe tbody tr th {\n",
       "        vertical-align: top;\n",
       "    }\n",
       "\n",
       "    .dataframe thead th {\n",
       "        text-align: right;\n",
       "    }\n",
       "</style>\n",
       "<table border=\"1\" class=\"dataframe\">\n",
       "  <thead>\n",
       "    <tr style=\"text-align: right;\">\n",
       "      <th></th>\n",
       "      <th>Make</th>\n",
       "      <th>Model</th>\n",
       "      <th>Nickname</th>\n",
       "      <th>Car Gender</th>\n",
       "      <th>Buyer Gender</th>\n",
       "      <th>Buyer Age</th>\n",
       "      <th>Buzzword</th>\n",
       "      <th>Country</th>\n",
       "      <th>City</th>\n",
       "      <th>Dealer Latitude</th>\n",
       "      <th>Dealer Longitude</th>\n",
       "      <th>Color</th>\n",
       "      <th>New Car</th>\n",
       "      <th>Purchase Date</th>\n",
       "      <th>Sale Price</th>\n",
       "      <th>Discount</th>\n",
       "      <th>Resell Price</th>\n",
       "      <th>5-yr Depreciation</th>\n",
       "      <th>Top Speed</th>\n",
       "      <th>0-60 Time</th>\n",
       "    </tr>\n",
       "  </thead>\n",
       "  <tbody>\n",
       "    <tr>\n",
       "      <th>0</th>\n",
       "      <td>Suzuki</td>\n",
       "      <td>Vitara</td>\n",
       "      <td>Philippine</td>\n",
       "      <td>Female</td>\n",
       "      <td>Female</td>\n",
       "      <td>51</td>\n",
       "      <td>User-friendly</td>\n",
       "      <td>Belgium</td>\n",
       "      <td>Antwerpen</td>\n",
       "      <td>51.247239</td>\n",
       "      <td>4.440346</td>\n",
       "      <td>Yellow</td>\n",
       "      <td>False</td>\n",
       "      <td>19/07/2009</td>\n",
       "      <td>54806.14</td>\n",
       "      <td>0.2467</td>\n",
       "      <td>33858.32</td>\n",
       "      <td>0.13</td>\n",
       "      <td>200.9</td>\n",
       "      <td>11.5</td>\n",
       "    </tr>\n",
       "    <tr>\n",
       "      <th>1</th>\n",
       "      <td>Honda</td>\n",
       "      <td>S2000</td>\n",
       "      <td>Henrik</td>\n",
       "      <td>Male</td>\n",
       "      <td>Male</td>\n",
       "      <td>30</td>\n",
       "      <td>analyzing</td>\n",
       "      <td>China</td>\n",
       "      <td>Jinhu</td>\n",
       "      <td>33.025433</td>\n",
       "      <td>119.020584</td>\n",
       "      <td>Crimson</td>\n",
       "      <td>False</td>\n",
       "      <td>26/10/2015</td>\n",
       "      <td>51826.30</td>\n",
       "      <td>0.3147</td>\n",
       "      <td>2989.28</td>\n",
       "      <td>0.02</td>\n",
       "      <td>158.5</td>\n",
       "      <td>8.8</td>\n",
       "    </tr>\n",
       "    <tr>\n",
       "      <th>2</th>\n",
       "      <td>BMW</td>\n",
       "      <td>Z4</td>\n",
       "      <td>Lebbie</td>\n",
       "      <td>Male</td>\n",
       "      <td>Female</td>\n",
       "      <td>54</td>\n",
       "      <td>software</td>\n",
       "      <td>China</td>\n",
       "      <td>Gemo</td>\n",
       "      <td>30.916207</td>\n",
       "      <td>121.677640</td>\n",
       "      <td>Khaki</td>\n",
       "      <td>False</td>\n",
       "      <td>28/03/2010</td>\n",
       "      <td>82929.14</td>\n",
       "      <td>0.5414</td>\n",
       "      <td>35049.16</td>\n",
       "      <td>0.24</td>\n",
       "      <td>149.5</td>\n",
       "      <td>14.4</td>\n",
       "    </tr>\n",
       "    <tr>\n",
       "      <th>3</th>\n",
       "      <td>Toyota</td>\n",
       "      <td>Tacoma</td>\n",
       "      <td>Jefferey</td>\n",
       "      <td>Female</td>\n",
       "      <td>Male</td>\n",
       "      <td>68</td>\n",
       "      <td>monitoring</td>\n",
       "      <td>Portugal</td>\n",
       "      <td>Queluz de Baixo</td>\n",
       "      <td>38.745168</td>\n",
       "      <td>-9.267087</td>\n",
       "      <td>Puce</td>\n",
       "      <td>False</td>\n",
       "      <td>7/5/2008</td>\n",
       "      <td>56928.66</td>\n",
       "      <td>0.0850</td>\n",
       "      <td>8236.15</td>\n",
       "      <td>0.20</td>\n",
       "      <td>153.3</td>\n",
       "      <td>11.5</td>\n",
       "    </tr>\n",
       "    <tr>\n",
       "      <th>4</th>\n",
       "      <td>Ford</td>\n",
       "      <td>Festiva</td>\n",
       "      <td>Glendon</td>\n",
       "      <td>Female</td>\n",
       "      <td>Male</td>\n",
       "      <td>70</td>\n",
       "      <td>Sharable</td>\n",
       "      <td>Latvia</td>\n",
       "      <td>Jaunpils</td>\n",
       "      <td>56.729980</td>\n",
       "      <td>23.016588</td>\n",
       "      <td>Yellow</td>\n",
       "      <td>False</td>\n",
       "      <td>1/6/2008</td>\n",
       "      <td>77201.26</td>\n",
       "      <td>0.1642</td>\n",
       "      <td>32765.76</td>\n",
       "      <td>0.18</td>\n",
       "      <td>122.0</td>\n",
       "      <td>14.9</td>\n",
       "    </tr>\n",
       "    <tr>\n",
       "      <th>...</th>\n",
       "      <td>...</td>\n",
       "      <td>...</td>\n",
       "      <td>...</td>\n",
       "      <td>...</td>\n",
       "      <td>...</td>\n",
       "      <td>...</td>\n",
       "      <td>...</td>\n",
       "      <td>...</td>\n",
       "      <td>...</td>\n",
       "      <td>...</td>\n",
       "      <td>...</td>\n",
       "      <td>...</td>\n",
       "      <td>...</td>\n",
       "      <td>...</td>\n",
       "      <td>...</td>\n",
       "      <td>...</td>\n",
       "      <td>...</td>\n",
       "      <td>...</td>\n",
       "      <td>...</td>\n",
       "      <td>...</td>\n",
       "    </tr>\n",
       "    <tr>\n",
       "      <th>794</th>\n",
       "      <td>Cadillac</td>\n",
       "      <td>CTS</td>\n",
       "      <td>Moshe</td>\n",
       "      <td>Female</td>\n",
       "      <td>Male</td>\n",
       "      <td>50</td>\n",
       "      <td>Customizable</td>\n",
       "      <td>Sweden</td>\n",
       "      <td>Bandhagen</td>\n",
       "      <td>59.264304</td>\n",
       "      <td>18.039970</td>\n",
       "      <td>Khaki</td>\n",
       "      <td>False</td>\n",
       "      <td>1/1/2002</td>\n",
       "      <td>96015.68</td>\n",
       "      <td>0.6580</td>\n",
       "      <td>12274.31</td>\n",
       "      <td>0.22</td>\n",
       "      <td>158.6</td>\n",
       "      <td>6.6</td>\n",
       "    </tr>\n",
       "    <tr>\n",
       "      <th>795</th>\n",
       "      <td>GMC</td>\n",
       "      <td>Sierra 3500</td>\n",
       "      <td>Gaynor</td>\n",
       "      <td>Male</td>\n",
       "      <td>Female</td>\n",
       "      <td>22</td>\n",
       "      <td>system engine</td>\n",
       "      <td>Indonesia</td>\n",
       "      <td>Cinagrog Girang</td>\n",
       "      <td>-6.954730</td>\n",
       "      <td>107.378745</td>\n",
       "      <td>Goldenrod</td>\n",
       "      <td>True</td>\n",
       "      <td>10/9/2014</td>\n",
       "      <td>51901.45</td>\n",
       "      <td>0.1774</td>\n",
       "      <td>27283.63</td>\n",
       "      <td>0.15</td>\n",
       "      <td>174.2</td>\n",
       "      <td>7.6</td>\n",
       "    </tr>\n",
       "    <tr>\n",
       "      <th>796</th>\n",
       "      <td>Mazda</td>\n",
       "      <td>CX-7</td>\n",
       "      <td>Loydie</td>\n",
       "      <td>Female</td>\n",
       "      <td>Male</td>\n",
       "      <td>47</td>\n",
       "      <td>Triple-buffered</td>\n",
       "      <td>Dominican Republic</td>\n",
       "      <td>Sabana Grande de Palenque</td>\n",
       "      <td>18.260462</td>\n",
       "      <td>-70.147320</td>\n",
       "      <td>Green</td>\n",
       "      <td>True</td>\n",
       "      <td>30/07/2019</td>\n",
       "      <td>28604.59</td>\n",
       "      <td>0.0274</td>\n",
       "      <td>22178.70</td>\n",
       "      <td>0.08</td>\n",
       "      <td>202.5</td>\n",
       "      <td>10.3</td>\n",
       "    </tr>\n",
       "    <tr>\n",
       "      <th>797</th>\n",
       "      <td>Dodge</td>\n",
       "      <td>Ram 3500</td>\n",
       "      <td>Liv</td>\n",
       "      <td>Female</td>\n",
       "      <td>Female</td>\n",
       "      <td>25</td>\n",
       "      <td>functionalities</td>\n",
       "      <td>China</td>\n",
       "      <td>Longtian</td>\n",
       "      <td>28.018107</td>\n",
       "      <td>111.945153</td>\n",
       "      <td>Yellow</td>\n",
       "      <td>True</td>\n",
       "      <td>22/07/2003</td>\n",
       "      <td>33890.39</td>\n",
       "      <td>0.0252</td>\n",
       "      <td>15865.98</td>\n",
       "      <td>0.09</td>\n",
       "      <td>188.2</td>\n",
       "      <td>13.9</td>\n",
       "    </tr>\n",
       "    <tr>\n",
       "      <th>798</th>\n",
       "      <td>Hyundai</td>\n",
       "      <td>Accent</td>\n",
       "      <td>Farlie</td>\n",
       "      <td>Female</td>\n",
       "      <td>Male</td>\n",
       "      <td>71</td>\n",
       "      <td>Assimilated</td>\n",
       "      <td>Thailand</td>\n",
       "      <td>Samut Sakhon</td>\n",
       "      <td>13.549775</td>\n",
       "      <td>100.274082</td>\n",
       "      <td>Goldenrod</td>\n",
       "      <td>False</td>\n",
       "      <td>14/05/2014</td>\n",
       "      <td>69425.39</td>\n",
       "      <td>0.3852</td>\n",
       "      <td>29374.06</td>\n",
       "      <td>0.14</td>\n",
       "      <td>133.1</td>\n",
       "      <td>10.4</td>\n",
       "    </tr>\n",
       "  </tbody>\n",
       "</table>\n",
       "<p>799 rows × 20 columns</p>\n",
       "</div>"
      ],
      "text/plain": [
       "         Make        Model    Nickname Car Gender Buyer Gender  Buyer Age  \\\n",
       "0      Suzuki       Vitara  Philippine     Female       Female         51   \n",
       "1       Honda        S2000      Henrik       Male         Male         30   \n",
       "2         BMW           Z4      Lebbie       Male       Female         54   \n",
       "3      Toyota       Tacoma    Jefferey     Female         Male         68   \n",
       "4        Ford      Festiva     Glendon     Female         Male         70   \n",
       "..        ...          ...         ...        ...          ...        ...   \n",
       "794  Cadillac          CTS       Moshe     Female         Male         50   \n",
       "795       GMC  Sierra 3500      Gaynor       Male       Female         22   \n",
       "796     Mazda         CX-7      Loydie     Female         Male         47   \n",
       "797     Dodge     Ram 3500         Liv     Female       Female         25   \n",
       "798   Hyundai       Accent      Farlie     Female         Male         71   \n",
       "\n",
       "            Buzzword             Country                       City  \\\n",
       "0      User-friendly             Belgium                  Antwerpen   \n",
       "1          analyzing               China                      Jinhu   \n",
       "2           software               China                       Gemo   \n",
       "3         monitoring            Portugal            Queluz de Baixo   \n",
       "4           Sharable              Latvia                   Jaunpils   \n",
       "..               ...                 ...                        ...   \n",
       "794     Customizable              Sweden                  Bandhagen   \n",
       "795    system engine           Indonesia            Cinagrog Girang   \n",
       "796  Triple-buffered  Dominican Republic  Sabana Grande de Palenque   \n",
       "797  functionalities               China                   Longtian   \n",
       "798      Assimilated            Thailand               Samut Sakhon   \n",
       "\n",
       "     Dealer Latitude  Dealer Longitude      Color  New Car Purchase Date  \\\n",
       "0          51.247239          4.440346     Yellow    False    19/07/2009   \n",
       "1          33.025433        119.020584    Crimson    False    26/10/2015   \n",
       "2          30.916207        121.677640      Khaki    False    28/03/2010   \n",
       "3          38.745168         -9.267087       Puce    False      7/5/2008   \n",
       "4          56.729980         23.016588     Yellow    False      1/6/2008   \n",
       "..               ...               ...        ...      ...           ...   \n",
       "794        59.264304         18.039970      Khaki    False      1/1/2002   \n",
       "795        -6.954730        107.378745  Goldenrod     True     10/9/2014   \n",
       "796        18.260462        -70.147320      Green     True    30/07/2019   \n",
       "797        28.018107        111.945153     Yellow     True    22/07/2003   \n",
       "798        13.549775        100.274082  Goldenrod    False    14/05/2014   \n",
       "\n",
       "     Sale Price  Discount  Resell Price  5-yr Depreciation  Top Speed  \\\n",
       "0      54806.14    0.2467      33858.32               0.13      200.9   \n",
       "1      51826.30    0.3147       2989.28               0.02      158.5   \n",
       "2      82929.14    0.5414      35049.16               0.24      149.5   \n",
       "3      56928.66    0.0850       8236.15               0.20      153.3   \n",
       "4      77201.26    0.1642      32765.76               0.18      122.0   \n",
       "..          ...       ...           ...                ...        ...   \n",
       "794    96015.68    0.6580      12274.31               0.22      158.6   \n",
       "795    51901.45    0.1774      27283.63               0.15      174.2   \n",
       "796    28604.59    0.0274      22178.70               0.08      202.5   \n",
       "797    33890.39    0.0252      15865.98               0.09      188.2   \n",
       "798    69425.39    0.3852      29374.06               0.14      133.1   \n",
       "\n",
       "     0-60 Time  \n",
       "0         11.5  \n",
       "1          8.8  \n",
       "2         14.4  \n",
       "3         11.5  \n",
       "4         14.9  \n",
       "..         ...  \n",
       "794        6.6  \n",
       "795        7.6  \n",
       "796       10.3  \n",
       "797       13.9  \n",
       "798       10.4  \n",
       "\n",
       "[799 rows x 20 columns]"
      ]
     },
     "execution_count": 4,
     "metadata": {},
     "output_type": "execute_result"
    }
   ],
   "source": [
    "df"
   ]
  },
  {
   "cell_type": "markdown",
   "id": "e911463b",
   "metadata": {},
   "source": [
    "# About data set\n",
    "## This is the cars data in which all details given about the company,model,owner,country etc, "
   ]
  },
  {
   "cell_type": "code",
   "execution_count": 5,
   "id": "91bc1617",
   "metadata": {},
   "outputs": [
    {
     "data": {
      "text/plain": [
       "(799, 20)"
      ]
     },
     "execution_count": 5,
     "metadata": {},
     "output_type": "execute_result"
    }
   ],
   "source": [
    "df.shape"
   ]
  },
  {
   "cell_type": "markdown",
   "id": "0ef658a2",
   "metadata": {},
   "source": [
    "# in this data 799 rows and 20 columns"
   ]
  },
  {
   "cell_type": "code",
   "execution_count": 6,
   "id": "6a44a139",
   "metadata": {},
   "outputs": [
    {
     "name": "stdout",
     "output_type": "stream",
     "text": [
      "<class 'pandas.core.frame.DataFrame'>\n",
      "RangeIndex: 799 entries, 0 to 798\n",
      "Data columns (total 20 columns):\n",
      " #   Column             Non-Null Count  Dtype  \n",
      "---  ------             --------------  -----  \n",
      " 0   Make               799 non-null    object \n",
      " 1   Model              799 non-null    object \n",
      " 2   Nickname           799 non-null    object \n",
      " 3   Car Gender         799 non-null    object \n",
      " 4   Buyer Gender       799 non-null    object \n",
      " 5   Buyer Age          799 non-null    int64  \n",
      " 6   Buzzword           799 non-null    object \n",
      " 7   Country            799 non-null    object \n",
      " 8   City               799 non-null    object \n",
      " 9   Dealer Latitude    799 non-null    float64\n",
      " 10  Dealer Longitude   799 non-null    float64\n",
      " 11  Color              799 non-null    object \n",
      " 12  New Car            799 non-null    bool   \n",
      " 13  Purchase Date      799 non-null    object \n",
      " 14  Sale Price         799 non-null    float64\n",
      " 15  Discount           799 non-null    float64\n",
      " 16  Resell Price       799 non-null    float64\n",
      " 17  5-yr Depreciation  799 non-null    float64\n",
      " 18  Top Speed          799 non-null    float64\n",
      " 19  0-60 Time          799 non-null    float64\n",
      "dtypes: bool(1), float64(8), int64(1), object(10)\n",
      "memory usage: 119.5+ KB\n"
     ]
    }
   ],
   "source": [
    "df.info()"
   ]
  },
  {
   "cell_type": "code",
   "execution_count": 7,
   "id": "6cfc1707",
   "metadata": {},
   "outputs": [
    {
     "data": {
      "text/plain": [
       "Make                 0\n",
       "Model                0\n",
       "Nickname             0\n",
       "Car Gender           0\n",
       "Buyer Gender         0\n",
       "Buyer Age            0\n",
       "Buzzword             0\n",
       "Country              0\n",
       "City                 0\n",
       "Dealer Latitude      0\n",
       "Dealer Longitude     0\n",
       "Color                0\n",
       "New Car              0\n",
       "Purchase Date        0\n",
       "Sale Price           0\n",
       "Discount             0\n",
       "Resell Price         0\n",
       "5-yr Depreciation    0\n",
       "Top Speed            0\n",
       "0-60 Time            0\n",
       "dtype: int64"
      ]
     },
     "execution_count": 7,
     "metadata": {},
     "output_type": "execute_result"
    }
   ],
   "source": [
    "df.isnull().sum()"
   ]
  },
  {
   "cell_type": "markdown",
   "id": "85e3b741",
   "metadata": {},
   "source": [
    "# Not any null count"
   ]
  },
  {
   "cell_type": "code",
   "execution_count": 8,
   "id": "b7fd3619",
   "metadata": {},
   "outputs": [],
   "source": [
    "# keeping only those columns which are needed further analysis"
   ]
  },
  {
   "cell_type": "code",
   "execution_count": 9,
   "id": "c8115f00",
   "metadata": {},
   "outputs": [],
   "source": [
    "car=df[['Make','Model','Buyer Gender','Buyer Age','Country','City','Color','New Car','Purchase Date','Sale Price','Discount','Resell Price','Top Speed','0-60 Time']]"
   ]
  },
  {
   "cell_type": "code",
   "execution_count": 10,
   "id": "fe9bd235",
   "metadata": {},
   "outputs": [
    {
     "data": {
      "text/plain": [
       "(799, 14)"
      ]
     },
     "execution_count": 10,
     "metadata": {},
     "output_type": "execute_result"
    }
   ],
   "source": [
    "# how many columns and rows\n",
    "car.shape"
   ]
  },
  {
   "cell_type": "code",
   "execution_count": 11,
   "id": "f9abe6bc",
   "metadata": {},
   "outputs": [
    {
     "data": {
      "text/plain": [
       "Index(['Make', 'Model', 'Buyer Gender', 'Buyer Age', 'Country', 'City',\n",
       "       'Color', 'New Car', 'Purchase Date', 'Sale Price', 'Discount',\n",
       "       'Resell Price', 'Top Speed', '0-60 Time'],\n",
       "      dtype='object')"
      ]
     },
     "execution_count": 11,
     "metadata": {},
     "output_type": "execute_result"
    }
   ],
   "source": [
    "# print column name\n",
    "car.columns"
   ]
  },
  {
   "cell_type": "code",
   "execution_count": 12,
   "id": "1c42fc60",
   "metadata": {},
   "outputs": [
    {
     "data": {
      "text/html": [
       "<div>\n",
       "<style scoped>\n",
       "    .dataframe tbody tr th:only-of-type {\n",
       "        vertical-align: middle;\n",
       "    }\n",
       "\n",
       "    .dataframe tbody tr th {\n",
       "        vertical-align: top;\n",
       "    }\n",
       "\n",
       "    .dataframe thead th {\n",
       "        text-align: right;\n",
       "    }\n",
       "</style>\n",
       "<table border=\"1\" class=\"dataframe\">\n",
       "  <thead>\n",
       "    <tr style=\"text-align: right;\">\n",
       "      <th></th>\n",
       "      <th>Make</th>\n",
       "      <th>Model</th>\n",
       "      <th>Buyer Gender</th>\n",
       "      <th>Buyer Age</th>\n",
       "      <th>Country</th>\n",
       "      <th>City</th>\n",
       "      <th>Color</th>\n",
       "      <th>New Car</th>\n",
       "      <th>Purchase Date</th>\n",
       "      <th>Sale Price</th>\n",
       "      <th>Discount</th>\n",
       "      <th>Resell Price</th>\n",
       "      <th>Top Speed</th>\n",
       "      <th>0-60 Time</th>\n",
       "    </tr>\n",
       "  </thead>\n",
       "  <tbody>\n",
       "    <tr>\n",
       "      <th>0</th>\n",
       "      <td>Suzuki</td>\n",
       "      <td>Vitara</td>\n",
       "      <td>Female</td>\n",
       "      <td>51</td>\n",
       "      <td>Belgium</td>\n",
       "      <td>Antwerpen</td>\n",
       "      <td>Yellow</td>\n",
       "      <td>False</td>\n",
       "      <td>19/07/2009</td>\n",
       "      <td>54806.14</td>\n",
       "      <td>0.2467</td>\n",
       "      <td>33858.32</td>\n",
       "      <td>200.9</td>\n",
       "      <td>11.5</td>\n",
       "    </tr>\n",
       "    <tr>\n",
       "      <th>1</th>\n",
       "      <td>Honda</td>\n",
       "      <td>S2000</td>\n",
       "      <td>Male</td>\n",
       "      <td>30</td>\n",
       "      <td>China</td>\n",
       "      <td>Jinhu</td>\n",
       "      <td>Crimson</td>\n",
       "      <td>False</td>\n",
       "      <td>26/10/2015</td>\n",
       "      <td>51826.30</td>\n",
       "      <td>0.3147</td>\n",
       "      <td>2989.28</td>\n",
       "      <td>158.5</td>\n",
       "      <td>8.8</td>\n",
       "    </tr>\n",
       "    <tr>\n",
       "      <th>2</th>\n",
       "      <td>BMW</td>\n",
       "      <td>Z4</td>\n",
       "      <td>Female</td>\n",
       "      <td>54</td>\n",
       "      <td>China</td>\n",
       "      <td>Gemo</td>\n",
       "      <td>Khaki</td>\n",
       "      <td>False</td>\n",
       "      <td>28/03/2010</td>\n",
       "      <td>82929.14</td>\n",
       "      <td>0.5414</td>\n",
       "      <td>35049.16</td>\n",
       "      <td>149.5</td>\n",
       "      <td>14.4</td>\n",
       "    </tr>\n",
       "    <tr>\n",
       "      <th>3</th>\n",
       "      <td>Toyota</td>\n",
       "      <td>Tacoma</td>\n",
       "      <td>Male</td>\n",
       "      <td>68</td>\n",
       "      <td>Portugal</td>\n",
       "      <td>Queluz de Baixo</td>\n",
       "      <td>Puce</td>\n",
       "      <td>False</td>\n",
       "      <td>7/5/2008</td>\n",
       "      <td>56928.66</td>\n",
       "      <td>0.0850</td>\n",
       "      <td>8236.15</td>\n",
       "      <td>153.3</td>\n",
       "      <td>11.5</td>\n",
       "    </tr>\n",
       "    <tr>\n",
       "      <th>4</th>\n",
       "      <td>Ford</td>\n",
       "      <td>Festiva</td>\n",
       "      <td>Male</td>\n",
       "      <td>70</td>\n",
       "      <td>Latvia</td>\n",
       "      <td>Jaunpils</td>\n",
       "      <td>Yellow</td>\n",
       "      <td>False</td>\n",
       "      <td>1/6/2008</td>\n",
       "      <td>77201.26</td>\n",
       "      <td>0.1642</td>\n",
       "      <td>32765.76</td>\n",
       "      <td>122.0</td>\n",
       "      <td>14.9</td>\n",
       "    </tr>\n",
       "  </tbody>\n",
       "</table>\n",
       "</div>"
      ],
      "text/plain": [
       "     Make    Model Buyer Gender  Buyer Age   Country             City  \\\n",
       "0  Suzuki   Vitara       Female         51   Belgium        Antwerpen   \n",
       "1   Honda    S2000         Male         30     China            Jinhu   \n",
       "2     BMW       Z4       Female         54     China             Gemo   \n",
       "3  Toyota   Tacoma         Male         68  Portugal  Queluz de Baixo   \n",
       "4    Ford  Festiva         Male         70    Latvia         Jaunpils   \n",
       "\n",
       "     Color  New Car Purchase Date  Sale Price  Discount  Resell Price  \\\n",
       "0   Yellow    False    19/07/2009    54806.14    0.2467      33858.32   \n",
       "1  Crimson    False    26/10/2015    51826.30    0.3147       2989.28   \n",
       "2    Khaki    False    28/03/2010    82929.14    0.5414      35049.16   \n",
       "3     Puce    False      7/5/2008    56928.66    0.0850       8236.15   \n",
       "4   Yellow    False      1/6/2008    77201.26    0.1642      32765.76   \n",
       "\n",
       "   Top Speed  0-60 Time  \n",
       "0      200.9       11.5  \n",
       "1      158.5        8.8  \n",
       "2      149.5       14.4  \n",
       "3      153.3       11.5  \n",
       "4      122.0       14.9  "
      ]
     },
     "execution_count": 12,
     "metadata": {},
     "output_type": "execute_result"
    }
   ],
   "source": [
    "# starting 5 rows data\n",
    "car.head()"
   ]
  },
  {
   "cell_type": "code",
   "execution_count": 13,
   "id": "e9bf9354",
   "metadata": {
    "scrolled": true
   },
   "outputs": [
    {
     "data": {
      "text/html": [
       "<div>\n",
       "<style scoped>\n",
       "    .dataframe tbody tr th:only-of-type {\n",
       "        vertical-align: middle;\n",
       "    }\n",
       "\n",
       "    .dataframe tbody tr th {\n",
       "        vertical-align: top;\n",
       "    }\n",
       "\n",
       "    .dataframe thead th {\n",
       "        text-align: right;\n",
       "    }\n",
       "</style>\n",
       "<table border=\"1\" class=\"dataframe\">\n",
       "  <thead>\n",
       "    <tr style=\"text-align: right;\">\n",
       "      <th></th>\n",
       "      <th>Make</th>\n",
       "      <th>Model</th>\n",
       "      <th>Buyer Gender</th>\n",
       "      <th>Buyer Age</th>\n",
       "      <th>Country</th>\n",
       "      <th>City</th>\n",
       "      <th>Color</th>\n",
       "      <th>New Car</th>\n",
       "      <th>Purchase Date</th>\n",
       "      <th>Sale Price</th>\n",
       "      <th>Discount</th>\n",
       "      <th>Resell Price</th>\n",
       "      <th>Top Speed</th>\n",
       "      <th>0-60 Time</th>\n",
       "    </tr>\n",
       "  </thead>\n",
       "  <tbody>\n",
       "    <tr>\n",
       "      <th>794</th>\n",
       "      <td>Cadillac</td>\n",
       "      <td>CTS</td>\n",
       "      <td>Male</td>\n",
       "      <td>50</td>\n",
       "      <td>Sweden</td>\n",
       "      <td>Bandhagen</td>\n",
       "      <td>Khaki</td>\n",
       "      <td>False</td>\n",
       "      <td>1/1/2002</td>\n",
       "      <td>96015.68</td>\n",
       "      <td>0.6580</td>\n",
       "      <td>12274.31</td>\n",
       "      <td>158.6</td>\n",
       "      <td>6.6</td>\n",
       "    </tr>\n",
       "    <tr>\n",
       "      <th>795</th>\n",
       "      <td>GMC</td>\n",
       "      <td>Sierra 3500</td>\n",
       "      <td>Female</td>\n",
       "      <td>22</td>\n",
       "      <td>Indonesia</td>\n",
       "      <td>Cinagrog Girang</td>\n",
       "      <td>Goldenrod</td>\n",
       "      <td>True</td>\n",
       "      <td>10/9/2014</td>\n",
       "      <td>51901.45</td>\n",
       "      <td>0.1774</td>\n",
       "      <td>27283.63</td>\n",
       "      <td>174.2</td>\n",
       "      <td>7.6</td>\n",
       "    </tr>\n",
       "    <tr>\n",
       "      <th>796</th>\n",
       "      <td>Mazda</td>\n",
       "      <td>CX-7</td>\n",
       "      <td>Male</td>\n",
       "      <td>47</td>\n",
       "      <td>Dominican Republic</td>\n",
       "      <td>Sabana Grande de Palenque</td>\n",
       "      <td>Green</td>\n",
       "      <td>True</td>\n",
       "      <td>30/07/2019</td>\n",
       "      <td>28604.59</td>\n",
       "      <td>0.0274</td>\n",
       "      <td>22178.70</td>\n",
       "      <td>202.5</td>\n",
       "      <td>10.3</td>\n",
       "    </tr>\n",
       "    <tr>\n",
       "      <th>797</th>\n",
       "      <td>Dodge</td>\n",
       "      <td>Ram 3500</td>\n",
       "      <td>Female</td>\n",
       "      <td>25</td>\n",
       "      <td>China</td>\n",
       "      <td>Longtian</td>\n",
       "      <td>Yellow</td>\n",
       "      <td>True</td>\n",
       "      <td>22/07/2003</td>\n",
       "      <td>33890.39</td>\n",
       "      <td>0.0252</td>\n",
       "      <td>15865.98</td>\n",
       "      <td>188.2</td>\n",
       "      <td>13.9</td>\n",
       "    </tr>\n",
       "    <tr>\n",
       "      <th>798</th>\n",
       "      <td>Hyundai</td>\n",
       "      <td>Accent</td>\n",
       "      <td>Male</td>\n",
       "      <td>71</td>\n",
       "      <td>Thailand</td>\n",
       "      <td>Samut Sakhon</td>\n",
       "      <td>Goldenrod</td>\n",
       "      <td>False</td>\n",
       "      <td>14/05/2014</td>\n",
       "      <td>69425.39</td>\n",
       "      <td>0.3852</td>\n",
       "      <td>29374.06</td>\n",
       "      <td>133.1</td>\n",
       "      <td>10.4</td>\n",
       "    </tr>\n",
       "  </tbody>\n",
       "</table>\n",
       "</div>"
      ],
      "text/plain": [
       "         Make        Model Buyer Gender  Buyer Age             Country  \\\n",
       "794  Cadillac          CTS         Male         50              Sweden   \n",
       "795       GMC  Sierra 3500       Female         22           Indonesia   \n",
       "796     Mazda         CX-7         Male         47  Dominican Republic   \n",
       "797     Dodge     Ram 3500       Female         25               China   \n",
       "798   Hyundai       Accent         Male         71            Thailand   \n",
       "\n",
       "                          City      Color  New Car Purchase Date  Sale Price  \\\n",
       "794                  Bandhagen      Khaki    False      1/1/2002    96015.68   \n",
       "795            Cinagrog Girang  Goldenrod     True     10/9/2014    51901.45   \n",
       "796  Sabana Grande de Palenque      Green     True    30/07/2019    28604.59   \n",
       "797                   Longtian     Yellow     True    22/07/2003    33890.39   \n",
       "798               Samut Sakhon  Goldenrod    False    14/05/2014    69425.39   \n",
       "\n",
       "     Discount  Resell Price  Top Speed  0-60 Time  \n",
       "794    0.6580      12274.31      158.6        6.6  \n",
       "795    0.1774      27283.63      174.2        7.6  \n",
       "796    0.0274      22178.70      202.5       10.3  \n",
       "797    0.0252      15865.98      188.2       13.9  \n",
       "798    0.3852      29374.06      133.1       10.4  "
      ]
     },
     "execution_count": 13,
     "metadata": {},
     "output_type": "execute_result"
    }
   ],
   "source": [
    "# last 5 rows data\n",
    "car.tail()"
   ]
  },
  {
   "cell_type": "code",
   "execution_count": 14,
   "id": "253b45f1",
   "metadata": {},
   "outputs": [
    {
     "data": {
      "text/html": [
       "<div>\n",
       "<style scoped>\n",
       "    .dataframe tbody tr th:only-of-type {\n",
       "        vertical-align: middle;\n",
       "    }\n",
       "\n",
       "    .dataframe tbody tr th {\n",
       "        vertical-align: top;\n",
       "    }\n",
       "\n",
       "    .dataframe thead th {\n",
       "        text-align: right;\n",
       "    }\n",
       "</style>\n",
       "<table border=\"1\" class=\"dataframe\">\n",
       "  <thead>\n",
       "    <tr style=\"text-align: right;\">\n",
       "      <th></th>\n",
       "      <th>Buyer Age</th>\n",
       "      <th>Sale Price</th>\n",
       "      <th>Discount</th>\n",
       "      <th>Resell Price</th>\n",
       "      <th>Top Speed</th>\n",
       "      <th>0-60 Time</th>\n",
       "    </tr>\n",
       "  </thead>\n",
       "  <tbody>\n",
       "    <tr>\n",
       "      <th>count</th>\n",
       "      <td>799.000000</td>\n",
       "      <td>799.000000</td>\n",
       "      <td>799.000000</td>\n",
       "      <td>799.000000</td>\n",
       "      <td>799.000000</td>\n",
       "      <td>799.000000</td>\n",
       "    </tr>\n",
       "    <tr>\n",
       "      <th>mean</th>\n",
       "      <td>47.307885</td>\n",
       "      <td>54791.470038</td>\n",
       "      <td>0.357168</td>\n",
       "      <td>26182.124418</td>\n",
       "      <td>183.538548</td>\n",
       "      <td>8.407760</td>\n",
       "    </tr>\n",
       "    <tr>\n",
       "      <th>std</th>\n",
       "      <td>16.215430</td>\n",
       "      <td>26352.660626</td>\n",
       "      <td>0.205517</td>\n",
       "      <td>13755.458647</td>\n",
       "      <td>37.623771</td>\n",
       "      <td>3.670142</td>\n",
       "    </tr>\n",
       "    <tr>\n",
       "      <th>min</th>\n",
       "      <td>20.000000</td>\n",
       "      <td>10068.960000</td>\n",
       "      <td>0.001400</td>\n",
       "      <td>2014.090000</td>\n",
       "      <td>120.000000</td>\n",
       "      <td>2.000000</td>\n",
       "    </tr>\n",
       "    <tr>\n",
       "      <th>25%</th>\n",
       "      <td>33.000000</td>\n",
       "      <td>31461.835000</td>\n",
       "      <td>0.177500</td>\n",
       "      <td>14319.530000</td>\n",
       "      <td>150.900000</td>\n",
       "      <td>5.200000</td>\n",
       "    </tr>\n",
       "    <tr>\n",
       "      <th>50%</th>\n",
       "      <td>47.000000</td>\n",
       "      <td>54806.140000</td>\n",
       "      <td>0.359400</td>\n",
       "      <td>26652.100000</td>\n",
       "      <td>182.600000</td>\n",
       "      <td>8.400000</td>\n",
       "    </tr>\n",
       "    <tr>\n",
       "      <th>75%</th>\n",
       "      <td>61.000000</td>\n",
       "      <td>77853.770000</td>\n",
       "      <td>0.533300</td>\n",
       "      <td>38061.125000</td>\n",
       "      <td>216.800000</td>\n",
       "      <td>11.500000</td>\n",
       "    </tr>\n",
       "    <tr>\n",
       "      <th>max</th>\n",
       "      <td>75.000000</td>\n",
       "      <td>99973.440000</td>\n",
       "      <td>0.697000</td>\n",
       "      <td>49988.650000</td>\n",
       "      <td>249.900000</td>\n",
       "      <td>14.900000</td>\n",
       "    </tr>\n",
       "  </tbody>\n",
       "</table>\n",
       "</div>"
      ],
      "text/plain": [
       "        Buyer Age    Sale Price    Discount  Resell Price   Top Speed  \\\n",
       "count  799.000000    799.000000  799.000000    799.000000  799.000000   \n",
       "mean    47.307885  54791.470038    0.357168  26182.124418  183.538548   \n",
       "std     16.215430  26352.660626    0.205517  13755.458647   37.623771   \n",
       "min     20.000000  10068.960000    0.001400   2014.090000  120.000000   \n",
       "25%     33.000000  31461.835000    0.177500  14319.530000  150.900000   \n",
       "50%     47.000000  54806.140000    0.359400  26652.100000  182.600000   \n",
       "75%     61.000000  77853.770000    0.533300  38061.125000  216.800000   \n",
       "max     75.000000  99973.440000    0.697000  49988.650000  249.900000   \n",
       "\n",
       "        0-60 Time  \n",
       "count  799.000000  \n",
       "mean     8.407760  \n",
       "std      3.670142  \n",
       "min      2.000000  \n",
       "25%      5.200000  \n",
       "50%      8.400000  \n",
       "75%     11.500000  \n",
       "max     14.900000  "
      ]
     },
     "execution_count": 14,
     "metadata": {},
     "output_type": "execute_result"
    }
   ],
   "source": [
    "# All statas value\n",
    "car.describe()"
   ]
  },
  {
   "cell_type": "markdown",
   "id": "faa5c871",
   "metadata": {},
   "source": [
    "#  how many different Make are in dataset?"
   ]
  },
  {
   "cell_type": "code",
   "execution_count": 30,
   "id": "297e219f",
   "metadata": {
    "scrolled": true
   },
   "outputs": [
    {
     "data": {
      "text/plain": [
       "array(['Suzuki', 'Honda', 'BMW', 'Toyota', 'Ford', 'Buick', 'Infiniti',\n",
       "       'Ram', 'GMC', 'Nissan', 'Scion', 'Porsche', 'Lexus', 'Mitsubishi',\n",
       "       'Dodge', 'Mazda', 'Land Rover', 'Isuzu', 'Acura', 'Pontiac',\n",
       "       'Audi', 'Citroën', 'Saab', 'Mercury', 'Plymouth', 'Maserati',\n",
       "       'Cadillac', 'Chevrolet', 'Subaru', 'Mercedes-Benz', 'Volkswagen',\n",
       "       'Volvo', 'Lincoln', 'Kia', 'Oldsmobile', 'Hyundai', 'Jeep',\n",
       "       'Lamborghini', 'Saturn', 'Aston Martin', 'Maybach', 'Bentley',\n",
       "       'Lotus', 'MINI', 'Daewoo', 'Jaguar', 'Chrysler', 'Hummer',\n",
       "       'Rolls-Royce', 'Geo', 'Eagle', 'Hillman', 'Austin'], dtype=object)"
      ]
     },
     "execution_count": 30,
     "metadata": {},
     "output_type": "execute_result"
    }
   ],
   "source": [
    "pd.unique(car['Make'])"
   ]
  },
  {
   "cell_type": "markdown",
   "id": "a46b4add",
   "metadata": {},
   "source": [
    "#  what is most frequent Make?"
   ]
  },
  {
   "cell_type": "code",
   "execution_count": 33,
   "id": "475b4605",
   "metadata": {},
   "outputs": [
    {
     "data": {
      "text/plain": [
       "Make\n",
       "Ford             63\n",
       "Chevrolet        53\n",
       "GMC              40\n",
       "Dodge            38\n",
       "Toyota           37\n",
       "Pontiac          35\n",
       "Mazda            34\n",
       "Mitsubishi       33\n",
       "Mercedes-Benz    31\n",
       "Volkswagen       30\n",
       "BMW              27\n",
       "Audi             22\n",
       "Acura            21\n",
       "Buick            21\n",
       "Nissan           20\n",
       "Cadillac         20\n",
       "Honda            18\n",
       "Lexus            18\n",
       "Hyundai          17\n",
       "Land Rover       16\n",
       "Suzuki           16\n",
       "Mercury          15\n",
       "Volvo            14\n",
       "Infiniti         13\n",
       "Lincoln          12\n",
       "Chrysler         11\n",
       "Lamborghini      10\n",
       "Oldsmobile       10\n",
       "Saab             10\n",
       "Porsche          10\n",
       "Kia               9\n",
       "Subaru            9\n",
       "Jaguar            8\n",
       "Plymouth          7\n",
       "Scion             6\n",
       "Jeep              6\n",
       "Isuzu             6\n",
       "Maybach           4\n",
       "Aston Martin      4\n",
       "Saturn            4\n",
       "Geo               3\n",
       "Maserati          3\n",
       "Bentley           2\n",
       "Citroën           2\n",
       "Hummer            2\n",
       "Lotus             2\n",
       "Austin            1\n",
       "Ram               1\n",
       "Rolls-Royce       1\n",
       "MINI              1\n",
       "Eagle             1\n",
       "Hillman           1\n",
       "Daewoo            1\n",
       "Name: count, dtype: int64"
      ]
     },
     "execution_count": 33,
     "metadata": {},
     "output_type": "execute_result"
    }
   ],
   "source": [
    "car.value_counts('Make')"
   ]
  },
  {
   "cell_type": "markdown",
   "id": "2b6fd4a4",
   "metadata": {},
   "source": [
    "# what is the mean age of buyer age"
   ]
  },
  {
   "cell_type": "code",
   "execution_count": 17,
   "id": "3b6eede8",
   "metadata": {
    "scrolled": true
   },
   "outputs": [
    {
     "data": {
      "text/plain": [
       "47.30788485607009"
      ]
     },
     "execution_count": 17,
     "metadata": {},
     "output_type": "execute_result"
    }
   ],
   "source": [
    "car[\"Buyer Age\"].mean()"
   ]
  },
  {
   "cell_type": "markdown",
   "id": "5d54bce4",
   "metadata": {},
   "source": [
    "# Most frequent country in buying car"
   ]
  },
  {
   "cell_type": "code",
   "execution_count": 18,
   "id": "cc295ef8",
   "metadata": {
    "scrolled": true
   },
   "outputs": [
    {
     "data": {
      "text/plain": [
       "Country\n",
       "China          128\n",
       "Indonesia       90\n",
       "Russia          48\n",
       "Philippines     40\n",
       "Poland          34\n",
       "              ... \n",
       "Kuwait           1\n",
       "Panama           1\n",
       "Paraguay         1\n",
       "Kiribati         1\n",
       "Zimbabwe         1\n",
       "Name: count, Length: 116, dtype: int64"
      ]
     },
     "execution_count": 18,
     "metadata": {},
     "output_type": "execute_result"
    }
   ],
   "source": [
    "car.value_counts('Country')"
   ]
  },
  {
   "cell_type": "markdown",
   "id": "20f9c3c3",
   "metadata": {},
   "source": [
    "# which car has the highest top speed in the dataset"
   ]
  },
  {
   "cell_type": "code",
   "execution_count": 19,
   "id": "02e7639a",
   "metadata": {
    "scrolled": true
   },
   "outputs": [
    {
     "data": {
      "text/html": [
       "<div>\n",
       "<style scoped>\n",
       "    .dataframe tbody tr th:only-of-type {\n",
       "        vertical-align: middle;\n",
       "    }\n",
       "\n",
       "    .dataframe tbody tr th {\n",
       "        vertical-align: top;\n",
       "    }\n",
       "\n",
       "    .dataframe thead th {\n",
       "        text-align: right;\n",
       "    }\n",
       "</style>\n",
       "<table border=\"1\" class=\"dataframe\">\n",
       "  <thead>\n",
       "    <tr style=\"text-align: right;\">\n",
       "      <th></th>\n",
       "      <th>Make</th>\n",
       "      <th>Model</th>\n",
       "      <th>Buyer Gender</th>\n",
       "      <th>Buyer Age</th>\n",
       "      <th>Country</th>\n",
       "      <th>City</th>\n",
       "      <th>Color</th>\n",
       "      <th>New Car</th>\n",
       "      <th>Purchase Date</th>\n",
       "      <th>Sale Price</th>\n",
       "      <th>Discount</th>\n",
       "      <th>Resell Price</th>\n",
       "      <th>Top Speed</th>\n",
       "      <th>0-60 Time</th>\n",
       "    </tr>\n",
       "  </thead>\n",
       "  <tbody>\n",
       "    <tr>\n",
       "      <th>164</th>\n",
       "      <td>GMC</td>\n",
       "      <td>Sierra 3500HD</td>\n",
       "      <td>Female</td>\n",
       "      <td>33</td>\n",
       "      <td>Chile</td>\n",
       "      <td>Machalí</td>\n",
       "      <td>Puce</td>\n",
       "      <td>True</td>\n",
       "      <td>11/11/2016</td>\n",
       "      <td>16808.62</td>\n",
       "      <td>0.2544</td>\n",
       "      <td>5304.96</td>\n",
       "      <td>249.9</td>\n",
       "      <td>6.2</td>\n",
       "    </tr>\n",
       "  </tbody>\n",
       "</table>\n",
       "</div>"
      ],
      "text/plain": [
       "    Make          Model Buyer Gender  Buyer Age Country     City Color  \\\n",
       "164  GMC  Sierra 3500HD       Female         33   Chile  Machalí  Puce   \n",
       "\n",
       "     New Car Purchase Date  Sale Price  Discount  Resell Price  Top Speed  \\\n",
       "164     True    11/11/2016    16808.62    0.2544       5304.96      249.9   \n",
       "\n",
       "     0-60 Time  \n",
       "164        6.2  "
      ]
     },
     "execution_count": 19,
     "metadata": {},
     "output_type": "execute_result"
    }
   ],
   "source": [
    "car.nlargest(1, 'Top Speed')\n"
   ]
  },
  {
   "cell_type": "markdown",
   "id": "c1daab2e",
   "metadata": {},
   "source": [
    "# which car has the lowest top speed in the dataset"
   ]
  },
  {
   "cell_type": "code",
   "execution_count": 20,
   "id": "115f8b19",
   "metadata": {
    "scrolled": false
   },
   "outputs": [
    {
     "data": {
      "text/html": [
       "<div>\n",
       "<style scoped>\n",
       "    .dataframe tbody tr th:only-of-type {\n",
       "        vertical-align: middle;\n",
       "    }\n",
       "\n",
       "    .dataframe tbody tr th {\n",
       "        vertical-align: top;\n",
       "    }\n",
       "\n",
       "    .dataframe thead th {\n",
       "        text-align: right;\n",
       "    }\n",
       "</style>\n",
       "<table border=\"1\" class=\"dataframe\">\n",
       "  <thead>\n",
       "    <tr style=\"text-align: right;\">\n",
       "      <th></th>\n",
       "      <th>Make</th>\n",
       "      <th>Model</th>\n",
       "      <th>Buyer Gender</th>\n",
       "      <th>Buyer Age</th>\n",
       "      <th>Country</th>\n",
       "      <th>City</th>\n",
       "      <th>Color</th>\n",
       "      <th>New Car</th>\n",
       "      <th>Purchase Date</th>\n",
       "      <th>Sale Price</th>\n",
       "      <th>Discount</th>\n",
       "      <th>Resell Price</th>\n",
       "      <th>Top Speed</th>\n",
       "      <th>0-60 Time</th>\n",
       "    </tr>\n",
       "  </thead>\n",
       "  <tbody>\n",
       "    <tr>\n",
       "      <th>531</th>\n",
       "      <td>Saab</td>\n",
       "      <td>9-May</td>\n",
       "      <td>Female</td>\n",
       "      <td>46</td>\n",
       "      <td>Russia</td>\n",
       "      <td>Mar’ina Roshcha</td>\n",
       "      <td>Indigo</td>\n",
       "      <td>True</td>\n",
       "      <td>5/5/2003</td>\n",
       "      <td>36341.41</td>\n",
       "      <td>0.0472</td>\n",
       "      <td>2216.02</td>\n",
       "      <td>120.0</td>\n",
       "      <td>9.5</td>\n",
       "    </tr>\n",
       "  </tbody>\n",
       "</table>\n",
       "</div>"
      ],
      "text/plain": [
       "     Make  Model Buyer Gender  Buyer Age Country             City   Color  \\\n",
       "531  Saab  9-May       Female         46  Russia  Mar’ina Roshcha  Indigo   \n",
       "\n",
       "     New Car Purchase Date  Sale Price  Discount  Resell Price  Top Speed  \\\n",
       "531     True      5/5/2003    36341.41    0.0472       2216.02      120.0   \n",
       "\n",
       "     0-60 Time  \n",
       "531        9.5  "
      ]
     },
     "execution_count": 20,
     "metadata": {},
     "output_type": "execute_result"
    }
   ],
   "source": [
    "car.nsmallest(1,'Top Speed')"
   ]
  },
  {
   "cell_type": "code",
   "execution_count": 21,
   "id": "434f0daf",
   "metadata": {},
   "outputs": [
    {
     "data": {
      "image/png": "[encoded data removed]",
      "text/plain": [
       "<Figure size 640x480 with 1 Axes>"
      ]
     },
     "metadata": {},
     "output_type": "display_data"
    }
   ],
   "source": [
    "ax = sns.countplot(x = 'Buyer Gender', data=car)\n",
    "\n",
    "for bars in ax.containers:\n",
    "    ax.bar_label(bars)"
   ]
  },
  {
   "cell_type": "markdown",
   "id": "1fa0f749",
   "metadata": {},
   "source": [
    "#  _Above the graph we can see females buyer more than the males buyer"
   ]
  },
  {
   "cell_type": "code",
   "execution_count": 22,
   "id": "083d3f5f",
   "metadata": {
    "scrolled": true
   },
   "outputs": [
    {
     "data": {
      "text/html": [
       "<div>\n",
       "<style scoped>\n",
       "    .dataframe tbody tr th:only-of-type {\n",
       "        vertical-align: middle;\n",
       "    }\n",
       "\n",
       "    .dataframe tbody tr th {\n",
       "        vertical-align: top;\n",
       "    }\n",
       "\n",
       "    .dataframe thead th {\n",
       "        text-align: right;\n",
       "    }\n",
       "</style>\n",
       "<table border=\"1\" class=\"dataframe\">\n",
       "  <thead>\n",
       "    <tr style=\"text-align: right;\">\n",
       "      <th></th>\n",
       "      <th>Buyer Gender</th>\n",
       "      <th>Sale Price</th>\n",
       "    </tr>\n",
       "  </thead>\n",
       "  <tbody>\n",
       "    <tr>\n",
       "      <th>0</th>\n",
       "      <td>Female</td>\n",
       "      <td>23991040.69</td>\n",
       "    </tr>\n",
       "    <tr>\n",
       "      <th>1</th>\n",
       "      <td>Male</td>\n",
       "      <td>19787343.87</td>\n",
       "    </tr>\n",
       "  </tbody>\n",
       "</table>\n",
       "</div>"
      ],
      "text/plain": [
       "  Buyer Gender   Sale Price\n",
       "0       Female  23991040.69\n",
       "1         Male  19787343.87"
      ]
     },
     "execution_count": 22,
     "metadata": {},
     "output_type": "execute_result"
    }
   ],
   "source": [
    "car.groupby(['Buyer Gender'],as_index=False)['Sale Price'].sum().sort_values(by='Sale Price',ascending=False)"
   ]
  },
  {
   "cell_type": "code",
   "execution_count": 23,
   "id": "db665407",
   "metadata": {
    "scrolled": false
   },
   "outputs": [
    {
     "data": {
      "text/plain": [
       "<Axes: xlabel='New Car', ylabel='count'>"
      ]
     },
     "execution_count": 23,
     "metadata": {},
     "output_type": "execute_result"
    },
    {
     "data": {
      "image/png": "[encoded data removed]",
      "text/plain": [
       "<Figure size 640x480 with 1 Axes>"
      ]
     },
     "metadata": {},
     "output_type": "display_data"
    }
   ],
   "source": [
    "sns.countplot(data=car,x='New Car',hue='Buyer Gender')"
   ]
  },
  {
   "cell_type": "markdown",
   "id": "c71a3b86",
   "metadata": {},
   "source": [
    "# Used car purchased by females more than males\n",
    "# New car purchased by females more than males"
   ]
  },
  {
   "cell_type": "code",
   "execution_count": 24,
   "id": "649d6c15",
   "metadata": {
    "scrolled": true
   },
   "outputs": [
    {
     "data": {
      "text/plain": [
       "<Axes: xlabel='Buyer Age', ylabel='count'>"
      ]
     },
     "execution_count": 24,
     "metadata": {},
     "output_type": "execute_result"
    },
    {
     "data": {
      "image/png": "[encoded data removed]",
      "text/plain": [
       "<Figure size 2000x200 with 1 Axes>"
      ]
     },
     "metadata": {},
     "output_type": "display_data"
    }
   ],
   "source": [
    "sns.set(rc={'figure.figsize':(20,2)})\n",
    "sns.countplot(data=car,x='Buyer Age',hue='Buyer Gender')"
   ]
  },
  {
   "cell_type": "markdown",
   "id": "9587b96c",
   "metadata": {},
   "source": [
    "# 40 year old females most buying cars"
   ]
  },
  {
   "cell_type": "code",
   "execution_count": 25,
   "id": "402603e9",
   "metadata": {
    "scrolled": false
   },
   "outputs": [
    {
     "data": {
      "text/html": [
       "<div>\n",
       "<style scoped>\n",
       "    .dataframe tbody tr th:only-of-type {\n",
       "        vertical-align: middle;\n",
       "    }\n",
       "\n",
       "    .dataframe tbody tr th {\n",
       "        vertical-align: top;\n",
       "    }\n",
       "\n",
       "    .dataframe thead th {\n",
       "        text-align: right;\n",
       "    }\n",
       "</style>\n",
       "<table border=\"1\" class=\"dataframe\">\n",
       "  <thead>\n",
       "    <tr style=\"text-align: right;\">\n",
       "      <th></th>\n",
       "      <th>Country</th>\n",
       "      <th>Sale Price</th>\n",
       "    </tr>\n",
       "  </thead>\n",
       "  <tbody>\n",
       "    <tr>\n",
       "      <th>20</th>\n",
       "      <td>China</td>\n",
       "      <td>6558794.53</td>\n",
       "    </tr>\n",
       "    <tr>\n",
       "      <th>46</th>\n",
       "      <td>Indonesia</td>\n",
       "      <td>5534857.37</td>\n",
       "    </tr>\n",
       "    <tr>\n",
       "      <th>92</th>\n",
       "      <td>Russia</td>\n",
       "      <td>2717458.55</td>\n",
       "    </tr>\n",
       "    <tr>\n",
       "      <th>88</th>\n",
       "      <td>Philippines</td>\n",
       "      <td>2182338.44</td>\n",
       "    </tr>\n",
       "    <tr>\n",
       "      <th>90</th>\n",
       "      <td>Poland</td>\n",
       "      <td>1853576.84</td>\n",
       "    </tr>\n",
       "  </tbody>\n",
       "</table>\n",
       "</div>"
      ],
      "text/plain": [
       "        Country  Sale Price\n",
       "20        China  6558794.53\n",
       "46    Indonesia  5534857.37\n",
       "92       Russia  2717458.55\n",
       "88  Philippines  2182338.44\n",
       "90       Poland  1853576.84"
      ]
     },
     "execution_count": 25,
     "metadata": {},
     "output_type": "execute_result"
    }
   ],
   "source": [
    "car.groupby(['Country'],as_index=False)['Sale Price'].sum().sort_values(by='Sale Price',ascending=False).head(5)\n"
   ]
  }
 ],
 "metadata": {
  "kernelspec": {
   "display_name": "Python 3 (ipykernel)",
   "language": "python",
   "name": "python3"
  },
  "language_info": {
   "codemirror_mode": {
    "name": "ipython",
    "version": 3
   },
   "file_extension": ".py",
   "mimetype": "text/x-python",
   "name": "python",
   "nbconvert_exporter": "python",
   "pygments_lexer": "ipython3",
   "version": "3.11.5"
  }
 },
 "nbformat": 4,
 "nbformat_minor": 5
}
